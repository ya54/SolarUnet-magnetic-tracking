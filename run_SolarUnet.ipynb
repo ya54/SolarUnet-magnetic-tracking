{
 "cells": [
  {
   "cell_type": "markdown",
   "metadata": {},
   "source": [
    "# Identifying and Tracking Solar Magnetic Flux Elements with Deep Learning\n",
    "\n",
    "### Haodi Jiang, Jiasheng Wang, Chang Liu, Ju Jing, Hao Liu, Jason T. L. Wang and Haimin Wang\n",
    "\n",
    "Institute for Space Weather Sciences, New Jersey Institute of Technology\n",
    "\n"
   ]
  },
  {
   "cell_type": "markdown",
   "metadata": {},
   "source": [
    "## 1. Introduction"
   ]
  },
  {
   "cell_type": "markdown",
   "metadata": {},
   "source": [
    "Deep learning has drawn significant interest in recent years due to its effectiveness in processing\n",
    "big and complex observational data gathered from diverse instruments.\n",
    "Here we propose a new deep learning method, called SolarUnet,\n",
    "to identify and track solar magnetic flux elements or features in observed vector\n",
    "magnetograms. SolarUnet is applied to data from the 1.6 meter Goode Solar\n",
    "Telescope at the Big Bear Solar Observatory.\n",
    "\n",
    "In this notebook, we provide an overview of the SolarUnet tool,\n",
    "detailing how it can be used to identify and track solar magnetic flux elements.\n"
   ]
  },
  {
   "cell_type": "markdown",
   "metadata": {},
   "source": [
    "## 2. Workflow of SolarUnet\n"
   ]
  },
  {
   "cell_type": "markdown",
   "metadata": {},
   "source": [
    "### 2.1 Data Preparation\n"
   ]
  },
  {
   "cell_type": "markdown",
   "metadata": {},
   "source": [
    "Import the pre_processing() function from the solarunet module.\n",
    "\n",
    "Convert the SWAMIS 3-class masks to 2-class masks for model training.\n",
    "You may put your data into this directory."
   ]
  },
  {
   "cell_type": "code",
   "execution_count": null,
   "metadata": {},
   "outputs": [],
   "source": [
    "from solarunet import pre_processing\n",
    "input_path = 'data/exmaple_data_preprocess/3_class/'\n",
    "output_path = 'data/exmaple_data_preprocess/2_class/'\n",
    "print('Pre-processing example data...')\n",
    "pre_processing(input_path, output_path)\n",
    "print('Finished the pre-processing.'')"
   ]
  },
  {
   "cell_type": "markdown",
   "metadata": {},
   "source": [
    "### 2.2 Model Training and Testing"
   ]
  },
  {
   "cell_type": "markdown",
   "metadata": {},
   "source": [
    "You may train the model with your own data (see Section 2.2.1) or directly use the pretrained model (see Section 2.2.2) for prediction\n",
    "and feature tracking."
   ]
  },
  {
   "cell_type": "markdown",
   "metadata": {},
   "source": [
    "#### 2.2.1 Training and Predicting"
   ]
  },
  {
   "cell_type": "markdown",
   "metadata": {},
   "source": [
    "Import the model_training() and model_predicting() functions from the solarunet module.\n",
    "\n",
    "The model is trained with the data prepared in Section 2.1 and tested on the given\n",
    "magnetograms. Please make sure your input data is in the given directory or you may create\n",
    "your own directory and modify the path. The predicted results will be saved in the given path.\n",
    "##### Note: The model is not trained in this Jupyter notebook because it requires large amount of memory. Therefore, the testing is done using the pre-trained model."
   ]
  },
  {
   "cell_type": "code",
   "execution_count": null,
   "metadata": {
    "pycharm": {
     "name": "#%%\n"
    }
   },
   "outputs": [],
   "source": [
    "from solarunet import model_training, model_predicting\n",
    "input_path ='data/magnetic/'\n",
    "output_path ='results/predicted_mask/'\n",
    "print('!!! No training is performed in this notebook. You may uncomment the following line if you want to try it. !!!')\n",
    "#The following is commented intentionally to avoid training the model in Jupyter notebook and Binder.\n",
    "#model_training(input_path) "
   ]
  },
  {
   "cell_type": "markdown",
   "metadata": {},
   "source": [
    "#### 2.2.2 Predicting with the Pretrained Model"
   ]
  },
  {
   "cell_type": "markdown",
   "metadata": {},
   "source": [
    "Import the model_predicting() function from the solarunet module.\n",
    "\n",
    "Predict the binary masks of the given magnetograms by using the pretrained model.\n",
    "We set the 3rd argument of model_predicting() as True.\n",
    "The predicted results will be saved in the given path."
   ]
  },
  {
   "cell_type": "code",
   "execution_count": null,
   "metadata": {
    "pycharm": {
     "name": "#%%\n"
    }
   },
   "outputs": [],
   "source": [
    "from solarunet import model_predicting\n",
    "input_path ='data/magnetic/'\n",
    "output_path ='results/predicted_mask/'\n",
    "model_predicting(input_path, output_path, pretrain=True)"
   ]
  },
  {
   "cell_type": "markdown",
   "metadata": {
    "pycharm": {
     "name": "#%% md\n"
    }
   },
   "source": [
    "### 2.3 Postprocessing Data"
   ]
  },
  {
   "cell_type": "markdown",
   "metadata": {},
   "source": [
    "Import the post_processing() and plot_mask() functions from the solarunet module.\n",
    "\n",
    "Convert the predicted binary masks to 3-class masks and use the plot_mask() function to draw the SolarUnet\n",
    "masks of the testing magnetograms."
   ]
  },
  {
   "cell_type": "code",
   "execution_count": null,
   "metadata": {
    "pycharm": {
     "name": "#%%\n"
    }
   },
   "outputs": [],
   "source": [
    "from solarunet import post_processing\n",
    "from solarunet import plot_mask\n",
    "%matplotlib inline\n",
    "post_processing()\n",
    "plot_mask()"
   ]
  },
  {
   "cell_type": "markdown",
   "metadata": {},
   "source": [
    "### 2.4 Magnetic Tracking"
   ]
  },
  {
   "cell_type": "markdown",
   "metadata": {},
   "source": [
    "Import the magnetic_tracking() function from the magnetic_tracking module.\n",
    "\n",
    "Magnetic tracking algorithms are performed on the three consecutive testing magnetograms.\n",
    "An option of saving feature lifetime is provided through the 3rd argument of\n",
    "the magnetic_tracking() function. The tracking results will be saved in the given path.\n"
   ]
  },
  {
   "cell_type": "code",
   "execution_count": null,
   "metadata": {
    "pycharm": {
     "name": "#%%\n"
    }
   },
   "outputs": [],
   "source": [
    "from magnetic_tracking import magnetic_tracking\n",
    "input_path = 'results/processed_data_for_tracking/'\n",
    "output_path = 'results/tracking_results/'\n",
    "magnetic_tracking(input_path, output_path)\n",
    "# lifetime_path = 'data/statistics_analysis/lifetime'\n",
    "# magnetic_tracking(input_path, output_path, lifetime_path)"
   ]
  },
  {
   "cell_type": "code",
   "execution_count": null,
   "metadata": {
    "pycharm": {
     "name": "#%%\n"
    }
   },
   "outputs": [],
   "source": [
    "from solarunet import plot_tracking_results\n",
    "%matplotlib inline\n",
    "plot_tracking_results()"
   ]
  },
  {
   "cell_type": "markdown",
   "metadata": {},
   "source": [
    "### 2.5 Statistics Analysis\n",
    "Import the analysis() function from the statistics_analysis module.\n",
    "\n",
    "The statistics analysis in this work is demoed as follows:\n"
   ]
  },
  {
   "cell_type": "code",
   "execution_count": null,
   "metadata": {
    "pycharm": {
     "name": "#%%\n"
    }
   },
   "outputs": [],
   "source": [
    "from statistics_analysis import analysis\n",
    "%matplotlib inline\n",
    "analysis()\n"
   ]
  },
  {
   "cell_type": "markdown",
   "metadata": {},
   "source": [
    "## 3. Conclusion"
   ]
  },
  {
   "cell_type": "markdown",
   "metadata": {},
   "source": [
    "We develop a deep learning method, SolarUnet, for tracking signed magnetic flux\n",
    "elements (features) and detecting magnetic events in observed vector magnetograms.\n",
    "We apply the SolarUnet tool to data from the 1.6 meter Goode Solar Telescope (GST)\n",
    "at the Big Bear Solar Observatory (BBSO). The tool is able to identify the magnetic\n",
    "features and detect three types of events, namely disappearance, merging and\n",
    "cancellation, in the death category and three types of events, namely appearance,\n",
    "splitting and emergence, in the birth category. We use the BBSO/GST images to illustrate how our tool works on feature\n",
    "identification and event detection, and compares with the widely used SWAMIS tool."
   ]
  },
  {
   "cell_type": "markdown",
   "metadata": {},
   "source": [
    "## Acknowledgment\n",
    "\n",
    "We thank the BBSO/GST team for providing the data used in this study.\n",
    "This work was supported by US NSF grants AGS-1927578 and AGS-1954737. C.L. and H.W.\n",
    "acknowledge the support of NASA under grants NNX16AF72G,\n",
    "80NSSC18K0673, and 80NSSC18K1705."
   ]
  }
 ],
 "metadata": {
  "kernelspec": {
   "display_name": "Python 3 (ipykernel)",
   "language": "python",
   "name": "python3"
  },
  "language_info": {
   "codemirror_mode": {
    "name": "ipython",
    "version": 3
   },
   "file_extension": ".py",
   "mimetype": "text/x-python",
   "name": "python",
   "nbconvert_exporter": "python",
   "pygments_lexer": "ipython3",
   "version": "3.8.10"
  }
 },
 "nbformat": 4,
 "nbformat_minor": 1
}
